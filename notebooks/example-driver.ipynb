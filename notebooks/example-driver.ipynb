{
 "cells": [
  {
   "cell_type": "code",
   "execution_count": 1,
   "metadata": {},
   "outputs": [],
   "source": [
    "%matplotlib inline\n",
    "\n",
    "import pandas as pd\n",
    "import numpy as np\n",
    "import matplotlib.pyplot as plt\n",
    "\n",
    "np.random.seed(1)"
   ]
  },
  {
   "cell_type": "code",
   "execution_count": 2,
   "metadata": {},
   "outputs": [],
   "source": [
    "train = pd.read_csv('../resources/data/seguro/train.csv')\n",
    "# test = pd.read_csv('../resources/data/seguro/test.csv')"
   ]
  },
  {
   "cell_type": "markdown",
   "metadata": {},
   "source": [
    "### Porto Seguro’s Safe Driver Prediction\n",
    "https://www.kaggle.com/c/porto-seguro-safe-driver-prediction"
   ]
  },
  {
   "cell_type": "code",
   "execution_count": 3,
   "metadata": {},
   "outputs": [
    {
     "data": {
      "text/html": [
       "<div>\n",
       "<style scoped>\n",
       "    .dataframe tbody tr th:only-of-type {\n",
       "        vertical-align: middle;\n",
       "    }\n",
       "\n",
       "    .dataframe tbody tr th {\n",
       "        vertical-align: top;\n",
       "    }\n",
       "\n",
       "    .dataframe thead th {\n",
       "        text-align: right;\n",
       "    }\n",
       "</style>\n",
       "<table border=\"1\" class=\"dataframe\">\n",
       "  <thead>\n",
       "    <tr style=\"text-align: right;\">\n",
       "      <th></th>\n",
       "      <th>id</th>\n",
       "      <th>target</th>\n",
       "      <th>ps_ind_01</th>\n",
       "      <th>ps_ind_02_cat</th>\n",
       "      <th>ps_ind_03</th>\n",
       "      <th>ps_ind_04_cat</th>\n",
       "      <th>ps_ind_05_cat</th>\n",
       "      <th>ps_ind_06_bin</th>\n",
       "      <th>ps_ind_07_bin</th>\n",
       "      <th>ps_ind_08_bin</th>\n",
       "      <th>...</th>\n",
       "      <th>ps_calc_11</th>\n",
       "      <th>ps_calc_12</th>\n",
       "      <th>ps_calc_13</th>\n",
       "      <th>ps_calc_14</th>\n",
       "      <th>ps_calc_15_bin</th>\n",
       "      <th>ps_calc_16_bin</th>\n",
       "      <th>ps_calc_17_bin</th>\n",
       "      <th>ps_calc_18_bin</th>\n",
       "      <th>ps_calc_19_bin</th>\n",
       "      <th>ps_calc_20_bin</th>\n",
       "    </tr>\n",
       "  </thead>\n",
       "  <tbody>\n",
       "    <tr>\n",
       "      <th>0</th>\n",
       "      <td>7</td>\n",
       "      <td>0</td>\n",
       "      <td>2</td>\n",
       "      <td>2</td>\n",
       "      <td>5</td>\n",
       "      <td>1</td>\n",
       "      <td>0</td>\n",
       "      <td>0</td>\n",
       "      <td>1</td>\n",
       "      <td>0</td>\n",
       "      <td>...</td>\n",
       "      <td>9</td>\n",
       "      <td>1</td>\n",
       "      <td>5</td>\n",
       "      <td>8</td>\n",
       "      <td>0</td>\n",
       "      <td>1</td>\n",
       "      <td>1</td>\n",
       "      <td>0</td>\n",
       "      <td>0</td>\n",
       "      <td>1</td>\n",
       "    </tr>\n",
       "    <tr>\n",
       "      <th>1</th>\n",
       "      <td>9</td>\n",
       "      <td>0</td>\n",
       "      <td>1</td>\n",
       "      <td>1</td>\n",
       "      <td>7</td>\n",
       "      <td>0</td>\n",
       "      <td>0</td>\n",
       "      <td>0</td>\n",
       "      <td>0</td>\n",
       "      <td>1</td>\n",
       "      <td>...</td>\n",
       "      <td>3</td>\n",
       "      <td>1</td>\n",
       "      <td>1</td>\n",
       "      <td>9</td>\n",
       "      <td>0</td>\n",
       "      <td>1</td>\n",
       "      <td>1</td>\n",
       "      <td>0</td>\n",
       "      <td>1</td>\n",
       "      <td>0</td>\n",
       "    </tr>\n",
       "    <tr>\n",
       "      <th>2</th>\n",
       "      <td>13</td>\n",
       "      <td>0</td>\n",
       "      <td>5</td>\n",
       "      <td>4</td>\n",
       "      <td>9</td>\n",
       "      <td>1</td>\n",
       "      <td>0</td>\n",
       "      <td>0</td>\n",
       "      <td>0</td>\n",
       "      <td>1</td>\n",
       "      <td>...</td>\n",
       "      <td>4</td>\n",
       "      <td>2</td>\n",
       "      <td>7</td>\n",
       "      <td>7</td>\n",
       "      <td>0</td>\n",
       "      <td>1</td>\n",
       "      <td>1</td>\n",
       "      <td>0</td>\n",
       "      <td>1</td>\n",
       "      <td>0</td>\n",
       "    </tr>\n",
       "    <tr>\n",
       "      <th>3</th>\n",
       "      <td>16</td>\n",
       "      <td>0</td>\n",
       "      <td>0</td>\n",
       "      <td>1</td>\n",
       "      <td>2</td>\n",
       "      <td>0</td>\n",
       "      <td>0</td>\n",
       "      <td>1</td>\n",
       "      <td>0</td>\n",
       "      <td>0</td>\n",
       "      <td>...</td>\n",
       "      <td>2</td>\n",
       "      <td>2</td>\n",
       "      <td>4</td>\n",
       "      <td>9</td>\n",
       "      <td>0</td>\n",
       "      <td>0</td>\n",
       "      <td>0</td>\n",
       "      <td>0</td>\n",
       "      <td>0</td>\n",
       "      <td>0</td>\n",
       "    </tr>\n",
       "    <tr>\n",
       "      <th>4</th>\n",
       "      <td>17</td>\n",
       "      <td>0</td>\n",
       "      <td>0</td>\n",
       "      <td>2</td>\n",
       "      <td>0</td>\n",
       "      <td>1</td>\n",
       "      <td>0</td>\n",
       "      <td>1</td>\n",
       "      <td>0</td>\n",
       "      <td>0</td>\n",
       "      <td>...</td>\n",
       "      <td>3</td>\n",
       "      <td>1</td>\n",
       "      <td>1</td>\n",
       "      <td>3</td>\n",
       "      <td>0</td>\n",
       "      <td>0</td>\n",
       "      <td>0</td>\n",
       "      <td>1</td>\n",
       "      <td>1</td>\n",
       "      <td>0</td>\n",
       "    </tr>\n",
       "  </tbody>\n",
       "</table>\n",
       "<p>5 rows × 59 columns</p>\n",
       "</div>"
      ],
      "text/plain": [
       "   id  target  ps_ind_01  ps_ind_02_cat  ps_ind_03  ps_ind_04_cat  \\\n",
       "0   7       0          2              2          5              1   \n",
       "1   9       0          1              1          7              0   \n",
       "2  13       0          5              4          9              1   \n",
       "3  16       0          0              1          2              0   \n",
       "4  17       0          0              2          0              1   \n",
       "\n",
       "   ps_ind_05_cat  ps_ind_06_bin  ps_ind_07_bin  ps_ind_08_bin       ...        \\\n",
       "0              0              0              1              0       ...         \n",
       "1              0              0              0              1       ...         \n",
       "2              0              0              0              1       ...         \n",
       "3              0              1              0              0       ...         \n",
       "4              0              1              0              0       ...         \n",
       "\n",
       "   ps_calc_11  ps_calc_12  ps_calc_13  ps_calc_14  ps_calc_15_bin  \\\n",
       "0           9           1           5           8               0   \n",
       "1           3           1           1           9               0   \n",
       "2           4           2           7           7               0   \n",
       "3           2           2           4           9               0   \n",
       "4           3           1           1           3               0   \n",
       "\n",
       "   ps_calc_16_bin  ps_calc_17_bin  ps_calc_18_bin  ps_calc_19_bin  \\\n",
       "0               1               1               0               0   \n",
       "1               1               1               0               1   \n",
       "2               1               1               0               1   \n",
       "3               0               0               0               0   \n",
       "4               0               0               1               1   \n",
       "\n",
       "   ps_calc_20_bin  \n",
       "0               1  \n",
       "1               0  \n",
       "2               0  \n",
       "3               0  \n",
       "4               0  \n",
       "\n",
       "[5 rows x 59 columns]"
      ]
     },
     "execution_count": 3,
     "metadata": {},
     "output_type": "execute_result"
    }
   ],
   "source": [
    "train.head()"
   ]
  },
  {
   "cell_type": "code",
   "execution_count": 98,
   "metadata": {},
   "outputs": [
    {
     "name": "stdout",
     "output_type": "stream",
     "text": [
      "0.036447517859182946\n"
     ]
    }
   ],
   "source": [
    "print(np.sum(train['target']) / train.shape[0])\n",
    "\n",
    "# from collections import Counter\n",
    "# for col in train.columns:\n",
    "#     print(col, Counter(train[col]).items())"
   ]
  },
  {
   "cell_type": "code",
   "execution_count": 7,
   "metadata": {},
   "outputs": [
    {
     "name": "stdout",
     "output_type": "stream",
     "text": [
      "(595212, 37)\n"
     ]
    }
   ],
   "source": [
    "def filter_columns(data):\n",
    "    columns = [col for col in list(data) if 'calc' not in col]\n",
    "    columns = [col for col in columns if col not in ['id', 'target']]\n",
    "    categorical = [col for col in columns if 'cat' in col]\n",
    "    ordinal = [col for col in columns if ('cat' not in col) and ('bin' not in col)]\n",
    "    return data[columns], categorical, ordinal\n",
    "\n",
    "X, categorical, ordinal = filter_columns(train)\n",
    "y = train['target']\n",
    "print(X.shape)"
   ]
  },
  {
   "cell_type": "code",
   "execution_count": 8,
   "metadata": {},
   "outputs": [],
   "source": [
    "from sklearn.model_selection import train_test_split\n",
    "\n",
    "# val dataset in GridSearchCV\n",
    "train_ratio, test_ratio, target_ratio = .8, .1, .1\n",
    "\n",
    "test_and_target = test_ratio + target_ratio\n",
    "op_train_ratio = 1. - train_ratio\n",
    "\n",
    "X_train, X_heldout, y_train, y_heldout = train_test_split(X, y, stratify=y, test_size=op_train_ratio)\n",
    "X_test, X_target, y_test, y_target = train_test_split(X_heldout, y_heldout, stratify=y_heldout, \n",
    "                                                      test_size=target_ratio / test_and_target)\n",
    "\n",
    "# to check if this stuff works correctly :)\n",
    "# to_check = data['id']\n",
    "# to_check_train, to_check_heldout = train_test_split(to_check, test_size=op_train_ratio)\n",
    "# to_check_val, to_check_tmp = train_test_split(to_check_heldout, test_size=test_and_target / op_train_ratio)\n",
    "# to_check_test, to_check_target = train_test_split(to_check_tmp, test_size=target_ratio / test_and_target)\n",
    "# check = np.concatenate([to_check_train, to_check_test, to_check_val, to_check_target])\n",
    "# print(check.shape[0] == np.unique(check).shape[0])"
   ]
  },
  {
   "cell_type": "code",
   "execution_count": 10,
   "metadata": {},
   "outputs": [
    {
     "name": "stdout",
     "output_type": "stream",
     "text": [
      "(476169, 37) (34710, 37)\n",
      "17355 17355\n",
      "Fitting 5 folds for each of 6 candidates, totalling 30 fits\n"
     ]
    },
    {
     "name": "stderr",
     "output_type": "stream",
     "text": [
      "[Parallel(n_jobs=-1)]: Using backend LokyBackend with 8 concurrent workers.\n",
      "[Parallel(n_jobs=-1)]: Done  30 out of  30 | elapsed:   57.1s finished\n"
     ]
    },
    {
     "data": {
      "text/plain": [
       "GridSearchCV(cv=5, error_score='raise-deprecating',\n",
       "       estimator=Pipeline(memory=None,\n",
       "     steps=[('transformers', ColumnTransformer(n_jobs=None, remainder='drop', sparse_threshold=0.3,\n",
       "         transformer_weights=None,\n",
       "         transformers=[('categorical_features', OneHotEncoder(categorical_features=None, categories=None,\n",
       "       dtype=<class 'numpy.float64'>, handle_unknown='ignore',\n",
       " ...timator', <tensorflow.python.keras.wrappers.scikit_learn.KerasClassifier object at 0x7f530faa30f0>)]),\n",
       "       fit_params=None, iid='warn', n_jobs=-1,\n",
       "       param_grid={'estimator__epochs': [50], 'estimator__batch_size': [1024], 'estimator__size_1': [4, 8, 16], 'estimator__size_2': [4, 8], 'estimator__verbose': [0]},\n",
       "       pre_dispatch='2*n_jobs', refit=True, return_train_score='warn',\n",
       "       scoring=None, verbose=1)"
      ]
     },
     "execution_count": 10,
     "metadata": {},
     "output_type": "execute_result"
    }
   ],
   "source": [
    "from sklearn.preprocessing import OneHotEncoder, StandardScaler, LabelEncoder\n",
    "from sklearn.pipeline import Pipeline, FeatureUnion\n",
    "from sklearn.compose import ColumnTransformer\n",
    "from sklearn.linear_model import SGDClassifier\n",
    "from sklearn.metrics import accuracy_score, roc_auc_score\n",
    "from sklearn.model_selection import GridSearchCV\n",
    "from sklearn.pipeline import Pipeline\n",
    "from sklearn.base import TransformerMixin\n",
    "\n",
    "import tensorflow as tf\n",
    "from tensorflow import keras\n",
    "\n",
    "import warnings\n",
    "warnings.filterwarnings('ignore')\n",
    "\n",
    "class DenseTransformer(TransformerMixin):\n",
    "    def fit(self, *_):\n",
    "        return self\n",
    "\n",
    "    def transform(self, X, *_):\n",
    "        return X.todense() if 'todense' in dir(X) else X\n",
    "    \n",
    "feature_transformation = ColumnTransformer(transformers=[\n",
    "    ('categorical_features', OneHotEncoder(handle_unknown='ignore'), categorical),\n",
    "    ('scaled_numeric', StandardScaler(), ordinal)\n",
    "])\n",
    "\n",
    "def create_model(size_1, size_2):\n",
    "    nn = keras.Sequential([\n",
    "        keras.layers.Dense(size_1, activation=tf.nn.relu),\n",
    "        keras.layers.Dense(size_2, activation=tf.nn.relu),\n",
    "        keras.layers.Dense(2, activation=tf.nn.softmax)\n",
    "    ])\n",
    "\n",
    "    nn.compile(optimizer='adam',\n",
    "                  loss='sparse_categorical_crossentropy',\n",
    "                  metrics=['accuracy'])\n",
    "    return nn\n",
    "\n",
    "model = keras.wrappers.scikit_learn.KerasClassifier(build_fn=create_model, verbose=1)\n",
    "\n",
    "pipeline = Pipeline([('transformers', feature_transformation),\n",
    "                     ('to_dense', DenseTransformer()),\n",
    "                     ('estimator', model)])\n",
    "\n",
    "params = {\n",
    "    'estimator__epochs': [50],\n",
    "    'estimator__batch_size': [1024],\n",
    "    'estimator__size_1': [4, 8, 16],\n",
    "    'estimator__size_2': [4, 8],\n",
    "    'estimator__verbose': [0]\n",
    "}\n",
    "\n",
    "from imblearn.over_sampling import SMOTE, ADASYN\n",
    "from imblearn.under_sampling import RandomUnderSampler\n",
    "\n",
    "sampler = RandomUnderSampler(random_state=0)\n",
    "X_resampled, y_resampled = sampler.fit_resample(X_train, y_train)\n",
    "X_resampled = pd.DataFrame(X_resampled, columns=X_train.columns)\n",
    "print(X_train.shape, X_resampled.shape)\n",
    "print(np.sum(y_train), np.sum(y_resampled))\n",
    "\n",
    "clf = GridSearchCV(pipeline, params, cv=5, verbose=1, n_jobs=-1)\n",
    "# scoring='roc_auc'\n",
    "clf.fit(X_resampled, y_resampled)"
   ]
  },
  {
   "cell_type": "code",
   "execution_count": 11,
   "metadata": {},
   "outputs": [
    {
     "name": "stdout",
     "output_type": "stream",
     "text": [
      "TRAIN.  accuracy: 0.5913, auc_roc: 0.6109\n",
      "TEST.   accuracy: 0.5851, auc_roc: 0.5844\n",
      "TARGET. accuracy: 0.5864, auc_roc: 0.5730\n"
     ]
    }
   ],
   "source": [
    "acc_on_train_data = accuracy_score(y_train, clf.predict(X_train))\n",
    "acc_on_noncorrupted_test_data = accuracy_score(y_test, clf.predict(X_test))\n",
    "acc_on_noncorrupted_target_data = accuracy_score(y_target, clf.predict(X_target))\n",
    "\n",
    "aucroc_on_train_data = roc_auc_score(y_train, clf.predict(X_train))\n",
    "aucroc_on_noncorrupted_test_data = roc_auc_score(y_test, clf.predict(X_test))\n",
    "aucroc_on_noncorrupted_target_data = roc_auc_score(y_target, clf.predict(X_target))\n",
    "\n",
    "print(\"TRAIN.  accuracy: %.4f, auc_roc: %.4f\" % (acc_on_train_data, aucroc_on_train_data))\n",
    "print(\"TEST.   accuracy: %.4f, auc_roc: %.4f\" % (acc_on_noncorrupted_test_data, aucroc_on_noncorrupted_test_data))\n",
    "print(\"TARGET. accuracy: %.4f, auc_roc: %.4f\" % (acc_on_noncorrupted_target_data, aucroc_on_noncorrupted_target_data))"
   ]
  },
  {
   "cell_type": "markdown",
   "metadata": {},
   "source": [
    "### Plot AUC ROC curve\n",
    "https://scikit-learn.org/stable/auto_examples/model_selection/plot_roc.html"
   ]
  },
  {
   "cell_type": "code",
   "execution_count": 53,
   "metadata": {},
   "outputs": [],
   "source": [
    "from copy import deepcopy\n",
    "\n",
    "mask = lambda x: (x['ps_ind_14'] <= 1) | (x['ps_ind_15'] <= 1)\n",
    "\n",
    "def corrupt(data, mask):\n",
    "    corrupted_data = deepcopy(data)\n",
    "    corrupted_data['ps_ind_02_cat'][mask] = 1\n",
    "    corrupted_data['ps_ind_04_cat'][mask] = 1\n",
    "    corrupted_data['ps_ind_05_cat'][mask] = 1\n",
    "    return corrupted_data\n",
    "\n",
    "corrupted_X_test = corrupt(X_test, mask(X_test))"
   ]
  },
  {
   "cell_type": "code",
   "execution_count": 54,
   "metadata": {},
   "outputs": [
    {
     "name": "stdout",
     "output_type": "stream",
     "text": [
      "TEST.   accuracy: 0.3859, auc_roc: 0.5611\n"
     ]
    },
    {
     "data": {
      "image/png": "[encoded data removed]",
      "text/plain": [
       "<Figure size 432x288 with 1 Axes>"
      ]
     },
     "metadata": {
      "needs_background": "light"
     },
     "output_type": "display_data"
    }
   ],
   "source": [
    "from sklearn.metrics import roc_curve, auc\n",
    "\n",
    "predicted = clf.predict(corrupted_X_test)\n",
    "# predicted_proba = clf.predict_proba(corrupted_X_test)\n",
    "\n",
    "acc_on_corrupted_test_data = accuracy_score(y_test, predicted)\n",
    "aucroc_on_corrupted_test_data = roc_auc_score(y_test, predicted)\n",
    "print(\"TEST.   accuracy: %.4f, auc_roc: %.4f\" % (acc_on_corrupted_test_data, aucroc_on_corrupted_test_data))\n",
    "\n",
    "# Compute ROC curve and ROC area for each class\n",
    "fpr = dict()\n",
    "tpr = dict()\n",
    "roc_auc = dict()\n",
    "n_classes = np.unique(y).shape[0]\n",
    "for i in range(n_classes):\n",
    "    fpr[i], tpr[i], _ = roc_curve(y_test, predicted)\n",
    "    roc_auc[i] = auc(fpr[i], tpr[i])\n",
    "\n",
    "# Compute micro-average ROC curve and ROC area\n",
    "fpr[\"micro\"], tpr[\"micro\"], _ = roc_curve(y_test.ravel(), predicted.ravel())\n",
    "roc_auc[\"micro\"] = auc(fpr[\"micro\"], tpr[\"micro\"])\n",
    "lw = 1\n",
    "\n",
    "plt.figure()\n",
    "plt.plot(fpr[0], tpr[0], color='darkorange', lw=lw, label='ROC curve (area = %0.2f)' % roc_auc[0])\n",
    "plt.plot([0, 1], [0, 1], color='navy', lw=lw, linestyle='--')\n",
    "plt.xlim([0.0, 1.0])\n",
    "plt.ylim([0.0, 1.05])\n",
    "plt.xlabel('False Positive Rate')\n",
    "plt.ylabel('True Positive Rate')\n",
    "plt.title('Receiver operating characteristic example')\n",
    "plt.legend(loc=\"lower right\")\n",
    "plt.show()\n",
    "\n",
    "# import scikitplot as skplt\n",
    "\n",
    "# skplt.metrics.plot_roc_curve(y_test, predicted_proba)\n",
    "# plt.show()"
   ]
  },
  {
   "cell_type": "code",
   "execution_count": 93,
   "metadata": {},
   "outputs": [
    {
     "data": {
      "text/plain": [
       "Pipeline(memory=None,\n",
       "     steps=[('scaling', StandardScaler(copy=True, with_mean=True, with_std=True)), ('embeddings', RandomTreesEmbedding(max_depth=3, max_leaf_nodes=None,\n",
       "           min_impurity_decrease=0.0, min_impurity_split=None,\n",
       "           min_samples_leaf=1, min_samples_split=2,\n",
       "           min_weight_fraction_leaf=0...learner', LinearRegression(copy_X=True, fit_intercept=True, n_jobs=None,\n",
       "         normalize=False))])"
      ]
     },
     "execution_count": 93,
     "metadata": {},
     "output_type": "execute_result"
    }
   ],
   "source": [
    "from sklearn.linear_model import BayesianRidge, LinearRegression\n",
    "from scipy.stats import entropy\n",
    "\n",
    "regressor_X_train = []\n",
    "regressor_y_train = []\n",
    "\n",
    "dataset_size_for_regressor = 500\n",
    "\n",
    "def quant(percent): return lambda x: np.percentile(x, percent)\n",
    "\n",
    "def stats(data):\n",
    "    funcs = [np.min, np.max, np.mean, np.std, quant(25), quant(50), quant(75)]\n",
    "    for column in data.T:\n",
    "        for foo in funcs:\n",
    "            yield foo(column)\n",
    "\n",
    "def create_dataset_for_regressor(clf, X, y, size, mask_f):\n",
    "    regressor_X, regressor_y = [], []\n",
    "    mask = mask_f(X)\n",
    "    for i in np.random.random_integers(1, 1000, size):\n",
    "        np.random.seed(i)\n",
    "        tmp = np.random.random()\n",
    "        factor = int(round(tmp * np.sum(mask)))\n",
    "        new_mask = deepcopy(mask)\n",
    "        new_mask[np.random.choice(mask[mask == True].index, factor, replace=False)] = False\n",
    "        corrupted_data = corrupt(X, new_mask)\n",
    "        regressor_X.append(list(stats(clf.predict_proba(corrupted_data))))\n",
    "        regressor_y.append(roc_auc_score(y, clf.predict(corrupted_data)))\n",
    "        # regressor_y.append(accuracy_score(y, clf.predict(corrupted_data)))\n",
    "    np.random.seed(1)\n",
    "    return regressor_X, regressor_y\n",
    "\n",
    "regressor_X_train, regressor_y_train = create_dataset_for_regressor(clf, X_test, y_test, 100, mask)\n",
    "\n",
    "from sklearn.ensemble import RandomTreesEmbedding\n",
    "\n",
    "meta_regressor = Pipeline([\n",
    "    ('scaling', StandardScaler()),\n",
    "    ('embeddings', RandomTreesEmbedding(max_depth=3, n_estimators=10, random_state=0)),\n",
    "    ('learner', LinearRegression())\n",
    "])\n",
    "\n",
    "meta_regressor.fit(np.array(regressor_X_train), np.array(regressor_y_train).reshape(-1, 1))"
   ]
  },
  {
   "cell_type": "code",
   "execution_count": 94,
   "metadata": {},
   "outputs": [],
   "source": [
    "regressor_X_target, regressor_y_target = create_dataset_for_regressor(clf, X_target, y_target, 100, mask)"
   ]
  },
  {
   "cell_type": "code",
   "execution_count": 95,
   "metadata": {},
   "outputs": [
    {
     "name": "stdout",
     "output_type": "stream",
     "text": [
      "score on corrupted target data:  0.01053981744906029\n"
     ]
    }
   ],
   "source": [
    "from sklearn.metrics import mean_squared_error as MSE\n",
    "from sklearn.metrics import mean_absolute_error as MAE\n",
    "\n",
    "predicted_target = meta_regressor.predict(regressor_X_target)\n",
    "predicted_train = meta_regressor.predict(regressor_X_train)\n",
    "\n",
    "score_on_corrupted_target_data = MAE(regressor_y_target, predicted_target)\n",
    "\n",
    "print(\"score on corrupted target data: \", score_on_corrupted_target_data)"
   ]
  },
  {
   "cell_type": "code",
   "execution_count": 96,
   "metadata": {},
   "outputs": [
    {
     "data": {
      "image/png": "[encoded data removed]",
      "text/plain": [
       "<Figure size 432x288 with 1 Axes>"
      ]
     },
     "metadata": {
      "needs_background": "light"
     },
     "output_type": "display_data"
    }
   ],
   "source": [
    "plt.plot(range(len(regressor_y_train)), regressor_y_train, 'go')\n",
    "plt.plot(range(len(predicted_target)), predicted_target, 'r^')\n",
    "plt.show()"
   ]
  },
  {
   "cell_type": "code",
   "execution_count": 97,
   "metadata": {},
   "outputs": [
    {
     "data": {
      "image/png": "[encoded data removed]",
      "text/plain": [
       "<Figure size 432x360 with 1 Axes>"
      ]
     },
     "metadata": {
      "needs_background": "light"
     },
     "output_type": "display_data"
    }
   ],
   "source": [
    "import scipy.stats\n",
    "\n",
    "true_scores = regressor_y_target\n",
    "predicted_scores = predicted_target\n",
    "\n",
    "plt.plot([0,1], [0, 1], '-', color='grey', alpha=0.5)\n",
    "\n",
    "gradient, intercept, _, _, _ = scipy.stats.linregress(np.array(true_scores).flatten(), np.array(predicted_scores).flatten())\n",
    "x1 = np.linspace(0.54, 0.6, 100)\n",
    "plt.plot(x1, gradient * x1 + intercept, '--')\n",
    "\n",
    "plt.scatter(true_scores, predicted_scores, alpha=0.05)\n",
    "\n",
    "plt.xlabel(\"true accuracy\", fontsize=16)\n",
    "plt.ylabel(\"predicted accuracy\", fontsize=16)\n",
    "\n",
    "plt.xlim((0.54, 0.6))\n",
    "plt.ylim((0.54, 0.6))         \n",
    "\n",
    "from sklearn.metrics import mean_squared_error, mean_absolute_error\n",
    "\n",
    "mse = mean_squared_error(true_scores, predicted_scores)\n",
    "mae = mean_absolute_error(true_scores, predicted_scores)\n",
    "\n",
    "plt.text(.568, .545, \"MSE %.5f   MAE %.4f\" % (mse, mae), fontsize=12, \n",
    "         bbox=dict(facecolor='none', edgecolor='black', pad=10.0))\n",
    "\n",
    "plt.legend(['perfect', 'prediction'], fontsize=12)\n",
    "plt.gcf().set_size_inches(6, 5)\n",
    "plt.gcf().savefig('figures/seguro-lr.pdf', dpi=300)\n",
    "plt.show()"
   ]
  },
  {
   "cell_type": "code",
   "execution_count": null,
   "metadata": {},
   "outputs": [],
   "source": []
  }
 ],
 "metadata": {
  "kernelspec": {
   "display_name": "Python 3",
   "language": "python",
   "name": "python3"
  },
  "language_info": {
   "codemirror_mode": {
    "name": "ipython",
    "version": 3
   },
   "file_extension": ".py",
   "mimetype": "text/x-python",
   "name": "python",
   "nbconvert_exporter": "python",
   "pygments_lexer": "ipython3",
   "version": "3.6.7"
  }
 },
 "nbformat": 4,
 "nbformat_minor": 2
}
