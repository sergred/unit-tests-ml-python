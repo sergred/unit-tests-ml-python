{
 "cells": [
  {
   "cell_type": "code",
   "execution_count": 134,
   "metadata": {},
   "outputs": [],
   "source": [
    "%matplotlib inline\n",
    "\n",
    "import pandas as pd\n",
    "import numpy as np\n",
    "import matplotlib.pyplot as plt\n",
    "\n",
    "np.random.seed(1)"
   ]
  },
  {
   "cell_type": "code",
   "execution_count": 157,
   "metadata": {},
   "outputs": [],
   "source": [
    "data = pd.read_csv('../resources/data/cardio/cardio_train.csv', sep=';')"
   ]
  },
  {
   "cell_type": "markdown",
   "metadata": {},
   "source": [
    "### Cardiovascular Disease dataset\n",
    "https://www.kaggle.com/sulianova/cardiovascular-disease-dataset"
   ]
  },
  {
   "cell_type": "code",
   "execution_count": 158,
   "metadata": {},
   "outputs": [
    {
     "name": "stdout",
     "output_type": "stream",
     "text": [
      "(70000, 13)\n",
      "0.4997\n"
     ]
    }
   ],
   "source": [
    "print(data.shape)\n",
    "print(1. * np.sum(data['cardio']) / data.shape[0])"
   ]
  },
  {
   "cell_type": "code",
   "execution_count": 159,
   "metadata": {},
   "outputs": [
    {
     "data": {
      "text/html": [
       "<div>\n",
       "<style scoped>\n",
       "    .dataframe tbody tr th:only-of-type {\n",
       "        vertical-align: middle;\n",
       "    }\n",
       "\n",
       "    .dataframe tbody tr th {\n",
       "        vertical-align: top;\n",
       "    }\n",
       "\n",
       "    .dataframe thead th {\n",
       "        text-align: right;\n",
       "    }\n",
       "</style>\n",
       "<table border=\"1\" class=\"dataframe\">\n",
       "  <thead>\n",
       "    <tr style=\"text-align: right;\">\n",
       "      <th></th>\n",
       "      <th>id</th>\n",
       "      <th>age</th>\n",
       "      <th>gender</th>\n",
       "      <th>height</th>\n",
       "      <th>weight</th>\n",
       "      <th>ap_hi</th>\n",
       "      <th>ap_lo</th>\n",
       "      <th>cholesterol</th>\n",
       "      <th>gluc</th>\n",
       "      <th>smoke</th>\n",
       "      <th>alco</th>\n",
       "      <th>active</th>\n",
       "      <th>cardio</th>\n",
       "      <th>bmi</th>\n",
       "      <th>age_in_years</th>\n",
       "    </tr>\n",
       "  </thead>\n",
       "  <tbody>\n",
       "    <tr>\n",
       "      <th>0</th>\n",
       "      <td>0</td>\n",
       "      <td>18393</td>\n",
       "      <td>2</td>\n",
       "      <td>168</td>\n",
       "      <td>62.0</td>\n",
       "      <td>110</td>\n",
       "      <td>80</td>\n",
       "      <td>1</td>\n",
       "      <td>1</td>\n",
       "      <td>0</td>\n",
       "      <td>0</td>\n",
       "      <td>1</td>\n",
       "      <td>0</td>\n",
       "      <td>21.967120</td>\n",
       "      <td>50.391781</td>\n",
       "    </tr>\n",
       "    <tr>\n",
       "      <th>1</th>\n",
       "      <td>1</td>\n",
       "      <td>20228</td>\n",
       "      <td>1</td>\n",
       "      <td>156</td>\n",
       "      <td>85.0</td>\n",
       "      <td>140</td>\n",
       "      <td>90</td>\n",
       "      <td>3</td>\n",
       "      <td>1</td>\n",
       "      <td>0</td>\n",
       "      <td>0</td>\n",
       "      <td>1</td>\n",
       "      <td>1</td>\n",
       "      <td>34.927679</td>\n",
       "      <td>55.419178</td>\n",
       "    </tr>\n",
       "    <tr>\n",
       "      <th>2</th>\n",
       "      <td>2</td>\n",
       "      <td>18857</td>\n",
       "      <td>1</td>\n",
       "      <td>165</td>\n",
       "      <td>64.0</td>\n",
       "      <td>130</td>\n",
       "      <td>70</td>\n",
       "      <td>3</td>\n",
       "      <td>1</td>\n",
       "      <td>0</td>\n",
       "      <td>0</td>\n",
       "      <td>0</td>\n",
       "      <td>1</td>\n",
       "      <td>23.507805</td>\n",
       "      <td>51.663014</td>\n",
       "    </tr>\n",
       "    <tr>\n",
       "      <th>3</th>\n",
       "      <td>3</td>\n",
       "      <td>17623</td>\n",
       "      <td>2</td>\n",
       "      <td>169</td>\n",
       "      <td>82.0</td>\n",
       "      <td>150</td>\n",
       "      <td>100</td>\n",
       "      <td>1</td>\n",
       "      <td>1</td>\n",
       "      <td>0</td>\n",
       "      <td>0</td>\n",
       "      <td>1</td>\n",
       "      <td>1</td>\n",
       "      <td>28.710479</td>\n",
       "      <td>48.282192</td>\n",
       "    </tr>\n",
       "    <tr>\n",
       "      <th>4</th>\n",
       "      <td>4</td>\n",
       "      <td>17474</td>\n",
       "      <td>1</td>\n",
       "      <td>156</td>\n",
       "      <td>56.0</td>\n",
       "      <td>100</td>\n",
       "      <td>60</td>\n",
       "      <td>1</td>\n",
       "      <td>1</td>\n",
       "      <td>0</td>\n",
       "      <td>0</td>\n",
       "      <td>0</td>\n",
       "      <td>0</td>\n",
       "      <td>23.011177</td>\n",
       "      <td>47.873973</td>\n",
       "    </tr>\n",
       "  </tbody>\n",
       "</table>\n",
       "</div>"
      ],
      "text/plain": [
       "   id    age  gender  height  weight  ap_hi  ap_lo  cholesterol  gluc  smoke  \\\n",
       "0   0  18393       2     168    62.0    110     80            1     1      0   \n",
       "1   1  20228       1     156    85.0    140     90            3     1      0   \n",
       "2   2  18857       1     165    64.0    130     70            3     1      0   \n",
       "3   3  17623       2     169    82.0    150    100            1     1      0   \n",
       "4   4  17474       1     156    56.0    100     60            1     1      0   \n",
       "\n",
       "   alco  active  cardio        bmi  age_in_years  \n",
       "0     0       1       0  21.967120     50.391781  \n",
       "1     0       1       1  34.927679     55.419178  \n",
       "2     0       0       1  23.507805     51.663014  \n",
       "3     0       1       1  28.710479     48.282192  \n",
       "4     0       0       0  23.011177     47.873973  "
      ]
     },
     "execution_count": 159,
     "metadata": {},
     "output_type": "execute_result"
    }
   ],
   "source": [
    "data['bmi'] = data['weight'] / (.01 * data['height'])**2\n",
    "data['age_in_years'] = data['age'] / 365\n",
    "\n",
    "# norms = pd.read_csv('../resources/data/cardio/cardio_norms.csv')\n",
    "\n",
    "# def ap_score(norms, x):\n",
    "#     age, gender, ap_hi, ap_lo = x['age_in_years'], x['gender'], x['ap_hi'], x['ap_lo']\n",
    "#     gender -= 1\n",
    "#     norm = norms[(age >= norms['min_age']) & (age < norms['max_age']) & (gender == norms['gender'])]\n",
    "#     good_ap_hi, good_ap_lo = int(norm['ap_hi']), int(norm['ap_lo'])\n",
    "#     return (1. - np.abs(good_ap_hi - ap_hi) / good_ap_hi) * (1. - np.abs(good_ap_lo - ap_lo) / good_ap_lo)\n",
    "    \n",
    "# data['ap_score'] = data.apply(lambda x: ap_score(norms, x), axis=1)\n",
    "\n",
    "data.head()"
   ]
  },
  {
   "cell_type": "markdown",
   "metadata": {},
   "source": [
    "### Train a feed forward network"
   ]
  },
  {
   "cell_type": "code",
   "execution_count": 160,
   "metadata": {},
   "outputs": [],
   "source": [
    "ordinal = ['age_in_years', 'ap_hi', 'ap_lo', 'bmi']\n",
    "categorical = ['gender', 'cholesterol', 'gluc', 'smoke', 'alco', 'active']\n",
    "target = 'cardio'\n",
    "X, y = data[ordinal + categorical], data[target]"
   ]
  },
  {
   "cell_type": "code",
   "execution_count": 161,
   "metadata": {},
   "outputs": [],
   "source": [
    "from sklearn.model_selection import train_test_split\n",
    "\n",
    "# val dataset in GridSearchCV\n",
    "train_ratio, test_ratio, target_ratio = .8, .1, .1\n",
    "\n",
    "test_and_target = test_ratio + target_ratio\n",
    "op_train_ratio = 1. - train_ratio\n",
    "\n",
    "X_train, X_heldout, y_train, y_heldout = train_test_split(X, y, test_size=op_train_ratio)\n",
    "X_test, X_target, y_test, y_target = train_test_split(X_heldout, y_heldout, test_size=target_ratio / test_and_target)\n",
    "\n",
    "# to check if this stuff works correctly :)\n",
    "# to_check = data['id']\n",
    "# to_check_train, to_check_heldout = train_test_split(to_check, test_size=op_train_ratio)\n",
    "# to_check_val, to_check_tmp = train_test_split(to_check_heldout, test_size=test_and_target / op_train_ratio)\n",
    "# to_check_test, to_check_target = train_test_split(to_check_tmp, test_size=target_ratio / test_and_target)\n",
    "# check = np.concatenate([to_check_train, to_check_test, to_check_val, to_check_target])\n",
    "# print(check.shape[0] == np.unique(check).shape[0])"
   ]
  },
  {
   "cell_type": "markdown",
   "metadata": {},
   "source": [
    "### GridSearch + Pipeline + keras feed-forward NN"
   ]
  },
  {
   "cell_type": "code",
   "execution_count": 162,
   "metadata": {},
   "outputs": [
    {
     "name": "stdout",
     "output_type": "stream",
     "text": [
      "Fitting 5 folds for each of 6 candidates, totalling 30 fits\n"
     ]
    },
    {
     "name": "stderr",
     "output_type": "stream",
     "text": [
      "[Parallel(n_jobs=-1)]: Using backend LokyBackend with 8 concurrent workers.\n",
      "[Parallel(n_jobs=-1)]: Done  30 out of  30 | elapsed:   40.6s finished\n"
     ]
    },
    {
     "data": {
      "text/plain": [
       "GridSearchCV(cv=5, error_score='raise-deprecating',\n",
       "       estimator=Pipeline(memory=None,\n",
       "     steps=[('transformers', ColumnTransformer(n_jobs=None, remainder='drop', sparse_threshold=0.3,\n",
       "         transformer_weights=None,\n",
       "         transformers=[('categorical_features', OneHotEncoder(categorical_features=None, categories=None,\n",
       "       dtype=<class 'numpy.float64'>, handle_unknown='ignore',\n",
       " ...timator', <tensorflow.python.keras.wrappers.scikit_learn.KerasClassifier object at 0x7feaa2bebf98>)]),\n",
       "       fit_params=None, iid='warn', n_jobs=-1,\n",
       "       param_grid={'estimator__epochs': [50], 'estimator__batch_size': [1024], 'estimator__size_1': [4, 8, 16], 'estimator__size_2': [4, 8], 'estimator__verbose': [0]},\n",
       "       pre_dispatch='2*n_jobs', refit=True, return_train_score='warn',\n",
       "       scoring=None, verbose=1)"
      ]
     },
     "execution_count": 162,
     "metadata": {},
     "output_type": "execute_result"
    }
   ],
   "source": [
    "from sklearn.preprocessing import OneHotEncoder, StandardScaler, LabelEncoder\n",
    "from sklearn.pipeline import Pipeline, FeatureUnion\n",
    "from sklearn.compose import ColumnTransformer\n",
    "from sklearn.linear_model import SGDClassifier\n",
    "from sklearn.metrics import accuracy_score\n",
    "from sklearn.model_selection import GridSearchCV\n",
    "from sklearn.pipeline import Pipeline\n",
    "\n",
    "import tensorflow as tf\n",
    "from tensorflow import keras\n",
    "\n",
    "import warnings\n",
    "warnings.filterwarnings('ignore')\n",
    "\n",
    "feature_transformation = ColumnTransformer(transformers=[\n",
    "    ('categorical_features', OneHotEncoder(handle_unknown='ignore'), categorical),\n",
    "    ('scaled_numeric', StandardScaler(), ordinal)\n",
    "])\n",
    "\n",
    "def create_model(size_1, size_2):\n",
    "    nn = keras.Sequential([\n",
    "        keras.layers.Dense(size_1, activation=tf.nn.relu),\n",
    "        keras.layers.Dense(size_2, activation=tf.nn.relu),\n",
    "        keras.layers.Dense(2, activation=tf.nn.softmax)\n",
    "    ])\n",
    "\n",
    "    nn.compile(optimizer='adam',\n",
    "                  loss='sparse_categorical_crossentropy',\n",
    "                  metrics=['accuracy'])\n",
    "    return nn\n",
    "\n",
    "model = keras.wrappers.scikit_learn.KerasClassifier(build_fn=create_model, verbose=1)\n",
    "\n",
    "pipeline = Pipeline([('transformers', feature_transformation), ('estimator', model)])\n",
    "\n",
    "params = {\n",
    "    'estimator__epochs': [50],\n",
    "    'estimator__batch_size': [1024],\n",
    "    'estimator__size_1': [4, 8, 16],\n",
    "    'estimator__size_2': [4, 8],\n",
    "    'estimator__verbose': [0]\n",
    "}\n",
    "\n",
    "clf = GridSearchCV(pipeline, params, cv=5, verbose=1, n_jobs=-1)\n",
    "clf.fit(X_train, y_train)"
   ]
  },
  {
   "cell_type": "code",
   "execution_count": 163,
   "metadata": {},
   "outputs": [
    {
     "name": "stdout",
     "output_type": "stream",
     "text": [
      "score on train data:  0.7347857142857143\n",
      "score on test data:  0.7352857142857143\n",
      "score on target data:  0.7381428571428571\n"
     ]
    }
   ],
   "source": [
    "score_on_train_data = accuracy_score(y_train, clf.predict(X_train))\n",
    "score_on_noncorrupted_test_data = accuracy_score(y_test, clf.predict(X_test))\n",
    "score_on_noncorrupted_target_data = accuracy_score(y_target, clf.predict(X_target))\n",
    "\n",
    "print(\"score on train data: \", score_on_train_data)\n",
    "print(\"score on test data: \", score_on_noncorrupted_test_data)\n",
    "print(\"score on target data: \", score_on_noncorrupted_target_data)"
   ]
  },
  {
   "cell_type": "markdown",
   "metadata": {},
   "source": [
    "### Introduce errors (missing values) into unseen test data, record resulting class probability entropies and accuracy score as inputs for the meta regressor"
   ]
  },
  {
   "cell_type": "code",
   "execution_count": 164,
   "metadata": {},
   "outputs": [
    {
     "name": "stdout",
     "output_type": "stream",
     "text": [
      "score on corrupted test data:  0.6968571428571428\n"
     ]
    }
   ],
   "source": [
    "from copy import deepcopy\n",
    "\n",
    "mask = lambda x: (x['age_in_years'] > 50.) & (x['bmi'] > 25.)\n",
    "\n",
    "def corrupt(X, mask):\n",
    "    corrupted_X = deepcopy(X)\n",
    "    corrupted_X['cholesterol'][mask(X)] = 3\n",
    "    corrupted_X['active'][mask(X)] = 0\n",
    "    # corrupted_X['weight'][X['weight'] > 90.] = np.nan\n",
    "    return corrupted_X\n",
    "\n",
    "# corrupting the data, conditions\n",
    "corrupted_X_test = corrupt(X_test, mask)\n",
    "score_on_corrupted_test_data = accuracy_score(y_test, clf.predict(corrupted_X_test))\n",
    "\n",
    "print(\"score on corrupted test data: \", score_on_corrupted_test_data)"
   ]
  },
  {
   "cell_type": "markdown",
   "metadata": {},
   "source": [
    "### Plot AUC ROC curve\n",
    "https://scikit-learn.org/stable/auto_examples/model_selection/plot_roc.html"
   ]
  },
  {
   "cell_type": "code",
   "execution_count": 165,
   "metadata": {},
   "outputs": [
    {
     "data": {
      "image/png": "[encoded data removed]",
      "text/plain": [
       "<Figure size 432x288 with 1 Axes>"
      ]
     },
     "metadata": {
      "needs_background": "light"
     },
     "output_type": "display_data"
    }
   ],
   "source": [
    "from sklearn.metrics import roc_curve, auc\n",
    "\n",
    "predicted = clf.predict(corrupted_X_test)\n",
    "# predicted_proba = clf.predict_proba(corrupted_X_test)\n",
    "\n",
    "# Compute ROC curve and ROC area for each class\n",
    "fpr = dict()\n",
    "tpr = dict()\n",
    "roc_auc = dict()\n",
    "n_classes = np.unique(y).shape[0]\n",
    "for i in range(n_classes):\n",
    "    fpr[i], tpr[i], _ = roc_curve(y_test, predicted)\n",
    "    roc_auc[i] = auc(fpr[i], tpr[i])\n",
    "\n",
    "# Compute micro-average ROC curve and ROC area\n",
    "fpr[\"micro\"], tpr[\"micro\"], _ = roc_curve(y_test.ravel(), predicted.ravel())\n",
    "roc_auc[\"micro\"] = auc(fpr[\"micro\"], tpr[\"micro\"])\n",
    "lw = 1\n",
    "\n",
    "plt.figure()\n",
    "plt.plot(fpr[0], tpr[0], color='darkorange', lw=lw, label='ROC curve (area = %0.2f)' % roc_auc[0])\n",
    "plt.plot([0, 1], [0, 1], color='navy', lw=lw, linestyle='--')\n",
    "plt.xlim([0.0, 1.0])\n",
    "plt.ylim([0.0, 1.05])\n",
    "plt.xlabel('False Positive Rate')\n",
    "plt.ylabel('True Positive Rate')\n",
    "plt.title('Receiver operating characteristic example')\n",
    "plt.legend(loc=\"lower right\")\n",
    "plt.show()\n",
    "\n",
    "# import scikitplot as skplt\n",
    "\n",
    "# skplt.metrics.plot_roc_curve(y_test, predicted_proba)\n",
    "# plt.show()"
   ]
  },
  {
   "cell_type": "markdown",
   "metadata": {},
   "source": [
    "### Fit a simple regression model to the generated training data"
   ]
  },
  {
   "cell_type": "code",
   "execution_count": 166,
   "metadata": {},
   "outputs": [
    {
     "data": {
      "text/plain": [
       "Pipeline(memory=None,\n",
       "     steps=[('scaling', StandardScaler(copy=True, with_mean=True, with_std=True)), ('learner', LinearRegression(copy_X=True, fit_intercept=True, n_jobs=None,\n",
       "         normalize=False))])"
      ]
     },
     "execution_count": 166,
     "metadata": {},
     "output_type": "execute_result"
    }
   ],
   "source": [
    "from sklearn.linear_model import BayesianRidge, LinearRegression\n",
    "from scipy.stats import entropy\n",
    "\n",
    "regressor_X_train = []\n",
    "regressor_y_train = []\n",
    "\n",
    "dataset_size_for_regressor = 500\n",
    "\n",
    "def quant(percent): return lambda x: np.percentile(x, percent)\n",
    "\n",
    "def stats(data):\n",
    "    funcs = [np.min, np.max, np.mean, np.std, quant(25), quant(50), quant(75)]\n",
    "    for column in data.T:\n",
    "        for foo in funcs:\n",
    "            yield foo(column)\n",
    "\n",
    "def create_dataset_for_regressor(clf, X, y, size, mask):\n",
    "    regressor_X, regressor_y = [], []\n",
    "    for i in np.random.random_integers(1, 1000, size):\n",
    "        np.random.seed(i)\n",
    "        corrupted_data = deepcopy(X)\n",
    "        new_mask = deepcopy(mask)\n",
    "        factor = int(round(np.random.random() * values_to_change))\n",
    "        new_mask.loc[np.random.choice(mask[mask == True].index, factor, replace=False)] = False\n",
    "        corrupted_data['cholesterol'][new_mask] = 3\n",
    "        regressor_X.append(list(stats(clf.predict_proba(corrupted_data))))\n",
    "        regressor_y.append(accuracy_score(y, clf.predict(corrupted_data)))\n",
    "    np.random.seed(1)\n",
    "    return regressor_X, regressor_y\n",
    "\n",
    "regressor_X_train, regressor_y_train = create_dataset_for_regressor(clf, X_test, y_test, 100, mask(X_test))\n",
    "\n",
    "meta_regressor = Pipeline([\n",
    "    ('scaling', StandardScaler()), \n",
    "    ('learner', LinearRegression())\n",
    "])\n",
    "\n",
    "meta_regressor.fit(np.array(regressor_X_train), np.array(regressor_y_train).reshape(-1, 1))"
   ]
  },
  {
   "cell_type": "markdown",
   "metadata": {},
   "source": [
    "### Evaluate regression model in predicting effects of errors in the unseen target data"
   ]
  },
  {
   "cell_type": "code",
   "execution_count": 167,
   "metadata": {},
   "outputs": [],
   "source": [
    "regressor_X_target, regressor_y_target = create_dataset_for_regressor(clf, X_target, y_target, 100, mask(X_target))"
   ]
  },
  {
   "cell_type": "code",
   "execution_count": 168,
   "metadata": {},
   "outputs": [
    {
     "name": "stdout",
     "output_type": "stream",
     "text": [
      "score on corrupted target data:  0.003700676496082447\n"
     ]
    }
   ],
   "source": [
    "from sklearn.metrics import mean_squared_error as MSE\n",
    "from sklearn.metrics import mean_absolute_error as MAE\n",
    "\n",
    "predicted_target = meta_regressor.predict(regressor_X_target)\n",
    "predicted_train = meta_regressor.predict(regressor_X_train)\n",
    "\n",
    "score_on_corrupted_target_data = MAE(regressor_y_target, predicted_target)\n",
    "\n",
    "print(\"score on corrupted target data: \", score_on_corrupted_target_data)"
   ]
  },
  {
   "cell_type": "code",
   "execution_count": 169,
   "metadata": {},
   "outputs": [
    {
     "data": {
      "image/png": "[encoded data removed]",
      "text/plain": [
       "<Figure size 432x288 with 1 Axes>"
      ]
     },
     "metadata": {
      "needs_background": "light"
     },
     "output_type": "display_data"
    }
   ],
   "source": [
    "plt.plot(range(len(regressor_y_train)), regressor_y_train, 'go')\n",
    "plt.plot(range(len(predicted_target)), predicted_target, 'r^')\n",
    "plt.show()"
   ]
  },
  {
   "cell_type": "code",
   "execution_count": 170,
   "metadata": {},
   "outputs": [],
   "source": [
    "from sklearn.ensemble import RandomForestRegressor\n",
    "\n",
    "meta_regressor = Pipeline([\n",
    "    ('scaling', StandardScaler()), \n",
    "    ('learner', RandomForestRegressor())\n",
    "])\n",
    "\n",
    "meta_regressor.fit(np.array(regressor_X_train), np.array(regressor_y_train).reshape(-1, 1))\n",
    "\n",
    "regressor_X_target, regressor_y_target = create_dataset_for_regressor(clf, X_target, y_target, 100, mask(X_target))"
   ]
  },
  {
   "cell_type": "code",
   "execution_count": 171,
   "metadata": {},
   "outputs": [
    {
     "name": "stdout",
     "output_type": "stream",
     "text": [
      "score on corrupted target data:  0.00482921455370027\n"
     ]
    },
    {
     "data": {
      "image/png": "[encoded data removed]",
      "text/plain": [
       "<Figure size 432x288 with 1 Axes>"
      ]
     },
     "metadata": {
      "needs_background": "light"
     },
     "output_type": "display_data"
    }
   ],
   "source": [
    "predicted_target = meta_regressor.predict(regressor_X_target)\n",
    "\n",
    "score_on_corrupted_target_data = MAE(regressor_y_target, predicted_target)\n",
    "\n",
    "print(\"score on corrupted target data: \", score_on_corrupted_target_data)\n",
    "\n",
    "plt.plot(range(len(regressor_y_target)), regressor_y_target, 'go')\n",
    "plt.plot(range(len(predicted_target)), predicted_target, 'r^')\n",
    "plt.show()"
   ]
  },
  {
   "cell_type": "code",
   "execution_count": 172,
   "metadata": {},
   "outputs": [],
   "source": [
    "from sklearn.neighbors import KNeighborsRegressor\n",
    "\n",
    "meta_regressor = Pipeline([\n",
    "    ('scaling', StandardScaler()), \n",
    "    ('learner', KNeighborsRegressor(n_neighbors=20))\n",
    "])\n",
    "\n",
    "meta_regressor.fit(np.array(regressor_X_train), np.array(regressor_y_train).reshape(-1, 1))\n",
    "\n",
    "regressor_X_target, regressor_y_target = create_dataset_for_regressor(clf, X_target, y_target, 100, mask(X_target))"
   ]
  },
  {
   "cell_type": "code",
   "execution_count": 173,
   "metadata": {},
   "outputs": [
    {
     "name": "stdout",
     "output_type": "stream",
     "text": [
      "score on corrupted target data:  0.005334928571428572\n"
     ]
    },
    {
     "data": {
      "image/png": "[encoded data removed]",
      "text/plain": [
       "<Figure size 432x288 with 1 Axes>"
      ]
     },
     "metadata": {
      "needs_background": "light"
     },
     "output_type": "display_data"
    }
   ],
   "source": [
    "predicted_target = meta_regressor.predict(regressor_X_target)\n",
    "\n",
    "score_on_corrupted_target_data = MAE(regressor_y_target, predicted_target)\n",
    "\n",
    "print(\"score on corrupted target data: \", score_on_corrupted_target_data)\n",
    "\n",
    "plt.plot(range(len(regressor_y_target)), regressor_y_target, 'go')\n",
    "plt.plot(range(len(predicted_target)), predicted_target, 'r^')\n",
    "plt.show()"
   ]
  },
  {
   "cell_type": "code",
   "execution_count": null,
   "metadata": {},
   "outputs": [],
   "source": [
    "from sklearn.ensemble import RandomTreesEmbedding\n",
    "from sklearn.linear_model import LogisticRegression\n",
    "\n",
    "meta_regressor = Pipeline([\n",
    "    ('scaling', StandardScaler()), \n",
    "    ('embeddings', RandomTreesEmbedding(max_depth=3, n_estimators=10, random_state=0)),\n",
    "    ('learner', LinearRegression())\n",
    "])\n",
    "\n",
    "meta_regressor.fit(np.array(regressor_X_train), np.array(regressor_y_train).reshape(-1, 1))\n",
    "\n",
    "regressor_X_target, regressor_y_target = create_dataset_for_regressor(clf, X_target, y_target, 100, mask(X_target))"
   ]
  },
  {
   "cell_type": "code",
   "execution_count": null,
   "metadata": {},
   "outputs": [],
   "source": [
    "predicted_target = meta_regressor.predict(regressor_X_target)\n",
    "\n",
    "score_on_corrupted_target_data = MAE(regressor_y_target, predicted_target)\n",
    "\n",
    "print(\"score on corrupted target data: \", score_on_corrupted_target_data)\n",
    "\n",
    "plt.plot(range(len(regressor_y_target)), regressor_y_target, 'go')\n",
    "plt.plot(range(len(predicted_target)), predicted_target, 'r^')\n",
    "plt.show()"
   ]
  },
  {
   "cell_type": "code",
   "execution_count": null,
   "metadata": {},
   "outputs": [],
   "source": []
  }
 ],
 "metadata": {
  "kernelspec": {
   "display_name": "Python 3",
   "language": "python",
   "name": "python3"
  },
  "language_info": {
   "codemirror_mode": {
    "name": "ipython",
    "version": 3
   },
   "file_extension": ".py",
   "mimetype": "text/x-python",
   "name": "python",
   "nbconvert_exporter": "python",
   "pygments_lexer": "ipython3",
   "version": "3.6.7"
  }
 },
 "nbformat": 4,
 "nbformat_minor": 2
}
